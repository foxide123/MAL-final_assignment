{
 "cells": [
  {
   "cell_type": "markdown",
   "metadata": {},
   "source": [
    "Diabetes\n",
    "\n",
    "This notebook is based on the following dataset: https://www.kaggle.com/datasets/alexteboul/diabetes-health-indicators-dataset\n",
    "\n",
    "The table consists of the following variables:\n",
    "\n",
    "* ID - Patient ID\n",
    "* Diabetes_binary - 0=no diabetes, 1=prediabetes or diabetes\n",
    "* HighBP - 0=no high BP, 1=high BP\n",
    "* HighChol - 0=no high cholesterol, 1=high cholesterol\n",
    "* CholCheck - 0=no cholesterol check in 5 years, 1=yes cholesterol check in 5 years\n",
    "* BMI - Body Mass Index\n",
    "* Smoker - Have you smoked at least 100 cigarettes (around 5 packs) in your entire life?: 0=no, 1=yes\n",
    "* Stroke - (Ever told) you had a stroke: 0=no, 1=yes\n",
    "* HeartDiseaseorAttack - coronary heart disease(CHD) or myocardial infarction(MI): 0 = no 1 = yes\n",
    "* PhysActivity - physical activity in past 30 days - not including job: 0 = no 1 = yes\n",
    "* Fruits - Consume Fruit 1 or more times per day: 0 = no 1 = yes\n",
    "* Veggies - Consume Vegetables 1 or more times per day: 0 = no 1 = yes\n",
    "* HvyAlcoholConsump - Heavy drinkers (adult men having more than 14 drinks per week and adult women having more than 7 drinks per week): 0 = no 1 = yes\n",
    "* AnyHealthcare - Have any kind of health care coverage, including health insurance, prepaid plans such as HMO, etc: 0 = no 1 = yes\n",
    "* NoDocbcCost - Was there a time in the past 12 months when you needed to see a doctor but could not because of cost?: 0 = no 1 = yes\t\n",
    "* GenHlth - Would you say that in general your health is: scale 1-5 1 = excellent 2 = very good 3 = good 4 = fair 5 = poor\n",
    "* MentHlth - Now thinking about your mental health, which includes stress, depression, and problems with emotions, for how many days during the past 30 days was your mental health not good? scale 1-30 days\t\n",
    "* PhysHlth - Now thinking about your physical health, which includes physical illness and injury, for how many days during the past 30 days was your physical health not good? scale 1-30 days\n",
    "* DiffWalk - Do you have serious difficulty walking or climbing stairs? 0 = no 1 = yes\n",
    "* Sex - 0=female, 1=male\n",
    "* Age - 13-level age category (_AGEG5YR see codebook) 1 = 18-24 9 = 60-64 13 = 80 or older\t\n",
    "* Education - Education level (EDUCA see codebook) scale 1-6 1 = Never attended school or only kindergarten 2 = Grades 1 through 8 (Elementary) 3 = Grades 9 through 11 (Some high school) 4 = Grade 12 or GED (High school graduate) 5 = College 1 year to 3 years (Some college or technical school) 6 = College 4 years or more (College graduate)\n",
    "* Income - Income scale (INCOME2 see codebook) scale 1-8 1 = less than $10,000 5 = less than $35,000 8 = $75,000 or more"
   ]
  },
  {
   "cell_type": "markdown",
   "metadata": {},
   "source": [
    "Initialization"
   ]
  },
  {
   "cell_type": "code",
   "execution_count": 5,
   "metadata": {},
   "outputs": [
    {
     "name": "stderr",
     "output_type": "stream",
     "text": [
      "C:\\Users\\kubak\\AppData\\Local\\Temp\\ipykernel_26948\\4080736814.py:1: DeprecationWarning: \n",
      "Pyarrow will become a required dependency of pandas in the next major release of pandas (pandas 3.0),\n",
      "(to allow more performant data types, such as the Arrow string type, and better interoperability with other libraries)\n",
      "but was not found to be installed on your system.\n",
      "If this would cause problems for you,\n",
      "please provide us feedback at https://github.com/pandas-dev/pandas/issues/54466\n",
      "        \n",
      "  import pandas as pd\n"
     ]
    }
   ],
   "source": [
    "import pandas as pd"
   ]
  },
  {
   "cell_type": "markdown",
   "metadata": {},
   "source": [
    "Preprocessing"
   ]
  },
  {
   "cell_type": "code",
   "execution_count": 8,
   "metadata": {},
   "outputs": [
    {
     "name": "stderr",
     "output_type": "stream",
     "text": [
      "C:\\Users\\kubak\\AppData\\Local\\Temp\\ipykernel_26948\\1848374734.py:1: DtypeWarning: Columns (0,1,2,3,4,5,6,7,8,9,10,11,12,13,14,15,16,17,18,19,20,21) have mixed types. Specify dtype option on import or set low_memory=False.\n",
      "  diabetes_data = pd.read_csv('diabetes_health_indicators.csv', header=None)\n"
     ]
    },
    {
     "name": "stdout",
     "output_type": "stream",
     "text": [
      "<class 'pandas.core.frame.DataFrame'>\n",
      "RangeIndex: 253681 entries, 0 to 253680\n",
      "Data columns (total 22 columns):\n",
      " #   Column  Non-Null Count   Dtype \n",
      "---  ------  --------------   ----- \n",
      " 0   0       253681 non-null  object\n",
      " 1   1       253681 non-null  object\n",
      " 2   2       253681 non-null  object\n",
      " 3   3       253681 non-null  object\n",
      " 4   4       253681 non-null  object\n",
      " 5   5       253681 non-null  object\n",
      " 6   6       253681 non-null  object\n",
      " 7   7       253681 non-null  object\n",
      " 8   8       253681 non-null  object\n",
      " 9   9       253681 non-null  object\n",
      " 10  10      253681 non-null  object\n",
      " 11  11      253681 non-null  object\n",
      " 12  12      253681 non-null  object\n",
      " 13  13      253681 non-null  object\n",
      " 14  14      253681 non-null  object\n",
      " 15  15      253681 non-null  object\n",
      " 16  16      253681 non-null  object\n",
      " 17  17      253681 non-null  object\n",
      " 18  18      253681 non-null  object\n",
      " 19  19      253681 non-null  object\n",
      " 20  20      253681 non-null  object\n",
      " 21  21      253681 non-null  object\n",
      "dtypes: object(22)\n",
      "memory usage: 42.6+ MB\n",
      "None\n"
     ]
    }
   ],
   "source": [
    "diabetes_data = pd.read_csv('diabetes_health_indicators.csv', header=None)\n",
    "print(diabetes_data.info())"
   ]
  }
 ],
 "metadata": {
  "kernelspec": {
   "display_name": "Python 3",
   "language": "python",
   "name": "python3"
  },
  "language_info": {
   "codemirror_mode": {
    "name": "ipython",
    "version": 3
   },
   "file_extension": ".py",
   "mimetype": "text/x-python",
   "name": "python",
   "nbconvert_exporter": "python",
   "pygments_lexer": "ipython3",
   "version": "3.11.5"
  }
 },
 "nbformat": 4,
 "nbformat_minor": 2
}
